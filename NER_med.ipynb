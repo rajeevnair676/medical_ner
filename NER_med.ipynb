{
 "cells": [
  {
   "cell_type": "code",
   "execution_count": 1,
   "metadata": {},
   "outputs": [],
   "source": [
    "import json\n",
    "import pickle\n",
    "from pathlib import Path\n",
    "\n",
    "import spacy\n",
    "import random\n",
    "from tqdm import tqdm"
   ]
  },
  {
   "cell_type": "code",
   "execution_count": 2,
   "metadata": {},
   "outputs": [],
   "source": [
    "with open('Corona2.json') as cs:\n",
    "    data = json.load(cs)\n"
   ]
  },
  {
   "cell_type": "code",
   "execution_count": 3,
   "metadata": {},
   "outputs": [],
   "source": [
    "### Sample Data\n",
    "### [\n",
    "###  ('Content1',{'entities':[(7,19,'PERSON),(21,28,'LOC)]}),\n",
    "###  ('Content2',{'entities':[(7,19,'PERSON),(21,28,'LOC)]}),\n",
    "### ]"
   ]
  },
  {
   "cell_type": "code",
   "execution_count": 17,
   "metadata": {},
   "outputs": [],
   "source": [
    "spacy_data=[]\n",
    "for element in data['examples']:\n",
    "    ent_dict={}\n",
    "    ent_list=[]\n",
    "    index=[]\n",
    "    for ent in element['annotations']:\n",
    "        if ent['human_annotations']!=[] and ent['start'] not in index and ent['end'] not in index:\n",
    "            index.append(ent['start'])\n",
    "            index.append(ent['end'])\n",
    "            ent_list.append((ent['start'],ent['end'],ent['tag_name']))\n",
    "    ent_dict['entities']=ent_list\n",
    "    spacy_data.append((element['content'],ent_dict))"
   ]
  },
  {
   "cell_type": "code",
   "execution_count": 18,
   "metadata": {},
   "outputs": [
    {
     "data": {
      "text/plain": [
       "[(\"While bismuth compounds (Pepto-Bismol) decreased the number of bowel movements in those with travelers' diarrhea, they do not decrease the length of illness.[91] Anti-motility agents like loperamide are also effective at reducing the number of stools but not the duration of disease.[8] These agents should be used only if bloody diarrhea is not present.[92]\\n\\nDiosmectite, a natural aluminomagnesium silicate clay, is effective in alleviating symptoms of acute diarrhea in children,[93] and also has some effects in chronic functional diarrhea, radiation-induced diarrhea, and chemotherapy-induced diarrhea.[45] Another absorbent agent used for the treatment of mild diarrhea is kaopectate.\\n\\nRacecadotril an antisecretory medication may be used to treat diarrhea in children and adults.[86] It has better tolerability than loperamide, as it causes less constipation and flatulence.[94]\",\n",
       "  {'entities': [(360, 371, 'Medicine'),\n",
       "    (383, 408, 'Medicine'),\n",
       "    (104, 112, 'MedicalCondition'),\n",
       "    (679, 689, 'Medicine'),\n",
       "    (6, 23, 'Medicine'),\n",
       "    (25, 37, 'Medicine'),\n",
       "    (577, 589, 'Medicine'),\n",
       "    (853, 865, 'MedicalCondition'),\n",
       "    (188, 198, 'Medicine'),\n",
       "    (754, 762, 'MedicalCondition'),\n",
       "    (870, 880, 'MedicalCondition'),\n",
       "    (823, 833, 'Medicine'),\n",
       "    (461, 469, 'MedicalCondition'),\n",
       "    (535, 543, 'MedicalCondition'),\n",
       "    (692, 704, 'Medicine'),\n",
       "    (563, 571, 'MedicalCondition')]}),\n",
       " ('Diarrhea, also spelled diarrhoea, is the condition of having at least three loose, liquid, or watery bowel movements each day.[2] It often lasts for a few days and can result in dehydration due to fluid loss.[2] Signs of dehydration often begin with loss of the normal stretchiness of the skin and irritable behaviour.[2] This can progress to decreased urination, loss of skin color, a fast heart rate, and a decrease in responsiveness as it becomes more severe.[2] Loose but non-watery stools in babies who are exclusively breastfed, however, are normal.[2]',\n",
       "  {'entities': [(364, 382, 'MedicalCondition'),\n",
       "    (0, 8, 'MedicalCondition'),\n",
       "    (94, 116, 'MedicalCondition'),\n",
       "    (178, 189, 'MedicalCondition'),\n",
       "    (221, 232, 'MedicalCondition'),\n",
       "    (23, 32, 'MedicalCondition'),\n",
       "    (409, 435, 'MedicalCondition'),\n",
       "    (386, 401, 'MedicalCondition')]}),\n",
       " ('Antiretroviral therapy (ART) is recommended for all HIV-infected individuals to reduce the risk of disease progression.\\nART also is recommended for HIV-infected individuals for the prevention of transmission of HIV.\\nPatients starting ART should be willing and able to commit to treatment and understand the benefits and risks of therapy and the importance of adherence. Patients may choose to postpone therapy, and providers, on a case-by-case basis, may elect to defer therapy on the basis of clinical and/or psychosocial factors.',\n",
       "  {'entities': [(0, 22, 'Medicine'),\n",
       "    (24, 27, 'Medicine'),\n",
       "    (120, 123, 'Medicine'),\n",
       "    (211, 214, 'Pathogen'),\n",
       "    (52, 55, 'Pathogen'),\n",
       "    (234, 237, 'Medicine'),\n",
       "    (148, 151, 'Pathogen')]}),\n",
       " ('The following drugs are considered as DMARDs: methotrexate, hydroxychloroquine, sulfasalazine, leflunomide, TNF-alpha inhibitors (certolizumab, infliximab and etanercept), abatacept, and anakinra. Rituximab and tocilizumab are monoclonal antibodies and are also DMARDs.[8] Use of tocilizumab is associated with a risk of increased cholesterol levels.[87]\\n\\nHydroxychloroquine, apart from its low toxicity profile, is considered effective in the moderate RA treatment.[88]\\n\\nThe most commonly used agent is methotrexate with other frequently used agents including sulfasalazine and leflunomide.[8] Leflunomide is effective when used from 6â€“12 months, with similar effectiveness to methotrexate when used for 2 years.[89] Sulfasalazine also appears to be most effective in the short-term treatment of rheumatoid arthritis.[90] Sodium aurothiomalate (gold) and cyclosporin are less commonly used due to more common adverse effects.[8] However, cyclosporin was found to be effective in the progressive RA when used up to one year.[91] Agents may be used in combinations however, people may experience greater side effects.[8][92] Methotrexate is the most important and useful DMARD and is usually the first treatment.[8][5][93] A combined approach with methotrexate and biologics improves ACR50, HAQ scores and RA remission rates.[94] Triple therapy consisting of methotrexate, sulfasalazine and hydroxychloroquine may also effectively control disease activity.[95] Adverse effects should be monitored regularly with toxicity including gastrointestinal, hematologic, pulmonary, and hepatic.[93] Side effects such as nausea, vomiting or abdominal pain can be reduced by taking folic acid.[96]',\n",
       "  {'entities': [(38, 44, 'Medicine'),\n",
       "    (356, 374, 'Medicine'),\n",
       "    (939, 950, 'Medicine'),\n",
       "    (60, 78, 'Medicine'),\n",
       "    (718, 731, 'Medicine'),\n",
       "    (227, 248, 'Medicine'),\n",
       "    (678, 690, 'Medicine'),\n",
       "    (197, 206, 'Medicine'),\n",
       "    (1372, 1385, 'Medicine'),\n",
       "    (856, 867, 'Medicine'),\n",
       "    (159, 169, 'Medicine'),\n",
       "    (130, 142, 'Medicine'),\n",
       "    (262, 268, 'Medicine'),\n",
       "    (561, 574, 'Medicine'),\n",
       "    (108, 128, 'Medicine'),\n",
       "    (1670, 1680, 'MedicalCondition'),\n",
       "    (80, 106, 'Medicine'),\n",
       "    (1610, 1616, 'MedicalCondition'),\n",
       "    (453, 465, 'Medicine'),\n",
       "    (797, 817, 'MedicalCondition'),\n",
       "    (595, 606, 'Medicine'),\n",
       "    (46, 58, 'Medicine'),\n",
       "    (823, 844, 'Medicine'),\n",
       "    (1124, 1136, 'Medicine'),\n",
       "    (1630, 1644, 'MedicalCondition'),\n",
       "    (579, 590, 'Medicine'),\n",
       "    (1358, 1370, 'Medicine'),\n",
       "    (1618, 1626, 'Medicine'),\n",
       "    (504, 516, 'Medicine'),\n",
       "    (144, 154, 'Medicine'),\n",
       "    (1390, 1408, 'Medicine'),\n",
       "    (211, 222, 'Medicine'),\n",
       "    (280, 291, 'Medicine')]}),\n",
       " (\"The goals of treatment are to reduce pain, decrease inflammation, and improve a person's overall functioning.[5] This may be helped by balancing rest and exercise, the use of splints and braces, or the use of assistive devices.[1][6][7] Pain medications, steroids, and NSAIDs are frequently used to help with symptoms.[1] Disease-modifying antirheumatic drugs (DMARDs), such as hydroxychloroquine and methotrexate, may be used to try to slow the progression of disease.[1] Biological DMARDs may be used when disease does not respond to other treatments.[8] However, they may have a greater rate of adverse effects.[9] Surgery to repair, replace, or fuse joints may help in certain situations.[1] Most alternative medicine treatments are not supported by evidence.[10][11]\",\n",
       "  {'entities': [(401, 413, 'Medicine'),\n",
       "    (378, 396, 'Medicine'),\n",
       "    (473, 490, 'Medicine'),\n",
       "    (255, 263, 'Medicine')]}),\n",
       " (\"Hantaviruses, usually found in rodents and shrews, were discovered in two species of bats. The MouyassuÃ© virus (MOUV) was isolated from banana pipistrelle bats captured near MouyassuÃ© village in Cote d'Ivoire, West Africa. The Magboi virus was isolated from hairy slit-faced bats found near the Magboi River in Sierra Leone in 2011. They are single-stranded, negative sense, RNA viruses in the Bunyaviridae family.[29][30][31][32]\",\n",
       "  {'entities': [(0, 12, 'Pathogen'),\n",
       "    (394, 406, 'Pathogen'),\n",
       "    (227, 239, 'Pathogen'),\n",
       "    (95, 110, 'Pathogen')]}),\n",
       " ('Bats are the most common source of rabies in humans in North and South America, Western Europe, and Australia. In the United States, there were 19 cases of human rabies from 1997â€“2006, 17 of which were attributed to bats.[27] In North America, about half of human rabies instances are cryptic, meaning that the patient has no known bite history.[24] While it has been speculated that rabies virus could be transmitted through aerosols, studies of the rabies virus have concluded that this is only feasible in limited conditions. These conditions include a very large colony of bats in a hot and humid cave with poor ventilation. While two human deaths in 1956 and 1959 had been tentatively attributed to aerosolization of the rabies virus after entering a cave with bats, \"investigations of the 2 reported human cases revealed that both infections could be explained by means other than aerosol transmission\".[28] It is instead generally thought that most instances of cryptic rabies are the result of an unknown bat bite.[24] Bites from a bat can be so small that they are not visible without magnification equipment, for example. Outside of bites, rabies virus exposure can also occur if infected fluids come in contact with a mucous membrane or a break in the skin. Rabies virus has also been transmitted when an infected human unknowingly dies of rabies, and their organs are transplanted to others.[28]',\n",
       "  {'entities': [(35, 41, 'MedicalCondition'),\n",
       "    (162, 168, 'MedicalCondition'),\n",
       "    (384, 396, 'Pathogen'),\n",
       "    (1269, 1281, 'Pathogen'),\n",
       "    (1343, 1347, 'MedicalCondition'),\n",
       "    (977, 983, 'MedicalCondition'),\n",
       "    (1027, 1032, 'MedicalCondition')]}),\n",
       " ('In 2003, following the outbreak of severe acute respiratory syndrome (SARS) which had begun the prior year in Asia, and secondary cases elsewhere in the world, the World Health Organization (WHO) issued a press release stating that a novel coronavirus identified by a number of laboratories was the causative agent for SARS. The virus was officially named the SARS coronavirus (SARS-CoV). More than 8,000 people were infected, about ten percent of whom died.[25]',\n",
       "  {'entities': [(35, 68, 'MedicalCondition'),\n",
       "    (70, 74, 'MedicalCondition'),\n",
       "    (453, 457, 'MedicalCondition'),\n",
       "    (240, 251, 'Pathogen'),\n",
       "    (360, 376, 'Pathogen'),\n",
       "    (319, 323, 'MedicalCondition'),\n",
       "    (378, 386, 'Pathogen')]}),\n",
       " ('Bacterial vaginosis is caused by bacteria that change the vaginal microbiota caused by an overgrowth of bacteria that crowd out the Lactobacilli species that maintain healthy vaginal microbial populations.\\nOther non-bacterial vaginal infections include: yeast infection (candidiasis), Trichomonas vaginalis (trichomoniasis).[8][9]\\nBacterial meningitis is a bacterial inflammation of the meninges, that is, the protective membranes covering the brain and spinal cord.\\nBacterial pneumonia is a bacterial infection of the lungs.\\nUrinary tract infection is predominantly caused by bacteria. Symptoms include the strong and frequent sensation or urge to urinate, pain during urination, and urine that is cloudy.[10] The main causal agent is Escherichia coli. Urine is typically sterile but contains a variety of salts, and waste products.[11] Bacteria can ascend into the bladder or kidney and causing cystitis and nephritis.\\nBacterial gastroenteritis is caused by enteric, pathogenic bacteria. These pathogenic species are usually distinct from the usually harmless bacteria of the normal gut flora. But a different strain of the same species may be pathogenic. The distinction is sometimes difficult as in the case of Escherichia.\\nBacterial skin infections include:\\nImpetigo is a highly contagious bacterial skin infection commonly seen in children.[12] It is caused by Staphylococcus aureus, and Streptococcus pyogenes.[13]\\nErysipelas is an acute streptococcus bacterial infection[14] of the deeper skin layers that spreads via with lymphatic system.\\nCellulitis is a diffuse inflammation[15] of connective tissue with severe inflammation of dermal and subcutaneous layers of the skin. Cellulitis can be caused by normal skin flora or by contagious contact, and usually occurs through open skin, cuts, blisters, cracks in the skin, insect bites, animal bites, burns, surgical wounds, intravenous drug injection, or sites of intravenous catheter insertion. In most cases it is the skin on the face or lower legs that is affected, though cellulitis can occur in other tissues.',\n",
       "  {'entities': [(271, 282, 'MedicalCondition'),\n",
       "    (0, 19, 'Pathogen'),\n",
       "    (1305, 1319, 'MedicalCondition'),\n",
       "    (33, 42, 'Pathogen'),\n",
       "    (897, 905, 'MedicalCondition'),\n",
       "    (1799, 1807, 'MedicalCondition'),\n",
       "    (1549, 1559, 'MedicalCondition'),\n",
       "    (658, 679, 'MedicalCondition'),\n",
       "    (226, 244, 'MedicalCondition'),\n",
       "    (1422, 1432, 'Pathogen'),\n",
       "    (1367, 1388, 'Pathogen'),\n",
       "    (921, 946, 'Pathogen'),\n",
       "    (1864, 1879, 'MedicalCondition'),\n",
       "    (1394, 1416, 'Pathogen'),\n",
       "    (357, 379, 'Pathogen'),\n",
       "    (467, 486, 'Pathogen'),\n",
       "    (254, 269, 'MedicalCondition'),\n",
       "    (1623, 1635, 'MedicalCondition'),\n",
       "    (910, 919, 'MedicalCondition'),\n",
       "    (1809, 1827, 'MedicalCondition'),\n",
       "    (1881, 1907, 'Medicine'),\n",
       "    (1573, 1585, 'MedicalCondition'),\n",
       "    (1843, 1855, 'MedicalCondition'),\n",
       "    (1921, 1951, 'Medicine'),\n",
       "    (1683, 1693, 'MedicalCondition'),\n",
       "    (132, 144, 'Pathogen'),\n",
       "    (331, 351, 'Pathogen'),\n",
       "    (1215, 1226, 'Pathogen'),\n",
       "    (285, 306, 'Pathogen'),\n",
       "    (736, 752, 'Pathogen')]}),\n",
       " ('Other groups of intracellular bacterial pathogens include Salmonella, Neisseria, Brucella, Mycobacterium, Nocardia, Listeria, Francisella, Legionella, and Yersinia pestis. These can exist intracellularly, but can exist outside of host cells.',\n",
       "  {'entities': [(116, 124, 'Pathogen'),\n",
       "    (155, 170, 'Pathogen'),\n",
       "    (126, 137, 'Pathogen'),\n",
       "    (70, 79, 'Pathogen'),\n",
       "    (139, 149, 'Pathogen'),\n",
       "    (106, 114, 'Pathogen'),\n",
       "    (91, 104, 'Pathogen'),\n",
       "    (81, 89, 'Pathogen'),\n",
       "    (58, 68, 'Pathogen')]}),\n",
       " ('One of the bacterial diseases with the highest disease burden is tuberculosis, caused by Mycobacterium tuberculosis bacteria, which kills about 2 million people a year, mostly in sub-Saharan Africa. Pathogenic bacteria contribute to other globally important diseases, such as pneumonia, which can be caused by bacteria such as Streptococcus and Pseudomonas, and foodborne illnesses, which can be caused by bacteria such as Shigella, Campylobacter, and Salmonella. Pathogenic bacteria also cause infections such as tetanus, typhoid fever, diphtheria, syphilis, and leprosy. Pathogenic bacteria are also the cause of high infant mortality rates in developing countries.[3]',\n",
       "  {'entities': [(327, 340, 'Pathogen'),\n",
       "    (514, 521, 'MedicalCondition'),\n",
       "    (452, 462, 'Pathogen'),\n",
       "    (276, 285, 'MedicalCondition'),\n",
       "    (523, 536, 'MedicalCondition'),\n",
       "    (564, 571, 'MedicalCondition'),\n",
       "    (433, 446, 'Pathogen'),\n",
       "    (538, 548, 'MedicalCondition'),\n",
       "    (345, 356, 'Pathogen'),\n",
       "    (65, 77, 'MedicalCondition'),\n",
       "    (550, 558, 'MedicalCondition'),\n",
       "    (89, 115, 'Pathogen'),\n",
       "    (423, 431, 'Pathogen')]}),\n",
       " (\"Although the vast majority of bacteria are harmless or beneficial to one's body, a few pathogenic bacteria can cause infectious diseases. The most common bacterial disease is tuberculosis, caused by the bacterium Mycobacterium tuberculosis, which affects about 2 million people mostly in sub-Saharan Africa. Pathogenic bacteria contribute to other globally important diseases, such as pneumonia, which can be caused by bacteria such as Streptococcus and Pseudomonas, and foodborne illnesses, which can be caused by bacteria such as Shigella, Campylobacter, and Salmonella. Pathogenic bacteria also cause infections such as tetanus, typhoid fever, diphtheria, syphilis, and Hansen's disease. They typically range between 1 and 5 micrometers in length.\",\n",
       "  {'entities': [(659, 667, 'MedicalCondition'),\n",
       "    (436, 449, 'Pathogen'),\n",
       "    (673, 689, 'MedicalCondition'),\n",
       "    (30, 38, 'Pathogen'),\n",
       "    (454, 465, 'Pathogen'),\n",
       "    (647, 657, 'MedicalCondition'),\n",
       "    (87, 106, 'Pathogen'),\n",
       "    (532, 540, 'Pathogen'),\n",
       "    (561, 571, 'Pathogen'),\n",
       "    (623, 630, 'MedicalCondition'),\n",
       "    (471, 490, 'MedicalCondition'),\n",
       "    (632, 645, 'MedicalCondition'),\n",
       "    (542, 555, 'Pathogen')]}),\n",
       " ('Much like viral pathogens, infection by certain bacterial pathogens can be prevented via vaccines.[30] Vaccines against bacterial pathogens include the anthrax vaccine and the pneumococcal vaccine. Many other bacterial pathogens lack vaccines as a preventive measure, but infection by these bacteria can often be treated or prevented with antibiotics. Common antibiotics include amoxicillin, ciprofloxacin, and doxycycline. Each antibiotic has different bacteria that it is effective against and has different mechanisms to kill that bacteria. For example, doxycycline inhibits the synthesis of new proteins in both gram-negative and gram-positive bacteria which leads to the death of the affected bacteria.[35]',\n",
       "  {'entities': [(379, 390, 'Medicine'),\n",
       "    (152, 167, 'Medicine'),\n",
       "    (411, 422, 'Medicine'),\n",
       "    (392, 405, 'Medicine'),\n",
       "    (176, 196, 'Medicine')]}),\n",
       " ('The term pathogen came into use in the 1880s.[1][2] Typically, the term is used to describe an infectious microorganism or agent, such as a virus, bacterium, protozoan, prion, viroid, or fungus.[',\n",
       "  {'entities': [(158, 167, 'Pathogen'),\n",
       "    (95, 119, 'Pathogen'),\n",
       "    (187, 193, 'Pathogen'),\n",
       "    (147, 156, 'Pathogen'),\n",
       "    (140, 145, 'Pathogen')]}),\n",
       " (\"Some antidepressants are used as a treatment for social anxiety disorder, but their efficacy is not entirely convincing, as only a small proportion of antidepressants showed some efficacy for this condition. Paroxetine was the first drug to be FDA-approved for this disorder. Its efficacy is considered beneficial, although not everyone responds favorably to the drug. Sertraline and fluvoxamine extended release were later approved for it as well, while escitalopram is used off-label with acceptable efficacy. However, there isn't enough evidence to support citalopram for treating social phobia, and fluoxetine was no better than placebo in clinical trials. SSRIs are used as a first-line treatment for social anxiety, but they don't work for everyone. One alternative would be venlafaxine, which is a SNRI. It showed benefits for social phobia in five clinical trials against placebo, while the other SNRIs are not considered particularly useful for this disorder as many of them didn't undergo testing for it. As of now, it is unclear if duloxetine and desvenlafaxine can provide benefits for social anxiety sufferers. However, another class of antidepressants called MAOIs are considered effective for social anxiety, but they come with many unwanted side effects and are rarely used. Phenelzine was shown to be a good treatment option, but its use is limited by dietary restrictions. Moclobemide is a RIMA and showed mixed results but still got approval in some European countries for social anxiety disorder. TCA antidepressants, such as clomipramine and imipramine, are not considered effective for this anxiety disorder in particular. This leaves out SSRIs such as paroxetine, sertraline and fluvoxamine CR as acceptable and tolerated treatment options for this disorder.[19][20]\",\n",
       "  {'entities': [(384, 395, 'Medicine'),\n",
       "    (1098, 1112, 'MedicalCondition'),\n",
       "    (1687, 1697, 'Medicine'),\n",
       "    (49, 72, 'MedicalCondition'),\n",
       "    (1173, 1178, 'Medicine'),\n",
       "    (1702, 1713, 'Medicine'),\n",
       "    (781, 792, 'Medicine'),\n",
       "    (1563, 1573, 'Medicine'),\n",
       "    (603, 613, 'Medicine'),\n",
       "    (1675, 1685, 'MedicalCondition'),\n",
       "    (1613, 1629, 'MedicalCondition'),\n",
       "    (369, 379, 'Medicine'),\n",
       "    (1291, 1301, 'Medicine'),\n",
       "    (1546, 1558, 'Medicine'),\n",
       "    (455, 467, 'Medicine'),\n",
       "    (1391, 1402, 'Medicine'),\n",
       "    (584, 597, 'MedicalCondition')]}),\n",
       " (\"However, existing data suggest that patients taking bedaquiline in addition to standard TB therapy are five times more likely to die than those without the new drug,[184] which has resulted in medical journal articles raising health policy questions about why the FDA approved the drug and whether financial ties to the company making bedaquiline influenced physicians' support for its use.[183][185]\",\n",
       "  {'entities': [(88, 98, 'Medicine'),\n",
       "    (335, 346, 'Medicine'),\n",
       "    (52, 63, 'Medicine')]}),\n",
       " ('Latent TB is treated with either isoniazid or rifampin alone, or a combination of isoniazid with either rifampicin or rifapentine.[90][91][92]\\n\\nThe treatment takes three to nine months depending on the medications used.[51][90][93][92] People with latent infections are treated to prevent them from progressing to active TB disease later in life.[94]',\n",
       "  {'entities': [(118, 129, 'Medicine'),\n",
       "    (33, 42, 'Medicine'),\n",
       "    (46, 54, 'Medicine'),\n",
       "    (82, 91, 'Medicine'),\n",
       "    (104, 114, 'Medicine')]}),\n",
       " ('If a tuberculosis infection does become active, it most commonly involves the lungs (in about 90% of cases).[14][17] Symptoms may include chest pain and a prolonged cough producing sputum. About 25% of people may not have any symptoms (i.e. they remain \"asymptomatic\").[14] Occasionally, people may cough up blood in small amounts, and in very rare cases, the infection may erode into the pulmonary artery or a Rasmussen\\'s aneurysm, resulting in massive bleeding.[9][18] Tuberculosis may become a chronic illness and cause extensive scarring in the upper lobes of the lungs. The upper lung lobes are more frequently affected by tuberculosis than the lower ones.[9] The reason for this difference is not clear.[13] It may be due to either better air flow,[13] or poor lymph drainage within the upper lungs.[',\n",
       "  {'entities': [(523, 541, 'MedicalCondition'),\n",
       "    (138, 148, 'MedicalCondition'),\n",
       "    (155, 170, 'MedicalCondition'),\n",
       "    (299, 313, 'MedicalCondition'),\n",
       "    (446, 462, 'MedicalCondition')]}),\n",
       " ('Tuberculosis may infect any part of the body, but most commonly occurs in the lungs (known as pulmonary tuberculosis).[9] Extrapulmonary TB occurs when tuberculosis develops outside of the lungs, although extrapulmonary TB may coexist with pulmonary TB.[9]\\n\\nGeneral signs and symptoms include fever, chills, night sweats, loss of appetite, weight loss, and fatigue.[9] Significant nail clubbing may also occur.[16]',\n",
       "  {'entities': []}),\n",
       " ('A number of factors make people more susceptible to TB infections. The most important risk factor globally is HIV; 13% of all people with TB are infected by the virus.[39] This is a particular problem in sub-Saharan Africa, where rates of HIV are high.[40][41] Of people without HIV who are infected with tuberculosis, about 5â€“10% develop active disease during their lifetimes;[16] in contrast, 30% of those coinfected with HIV develop the active disease.[16]',\n",
       "  {'entities': [(279, 282, 'Pathogen')]}),\n",
       " ('In 15â€“20% of active cases, the infection spreads outside the lungs, causing other kinds of TB.[19] These are collectively denoted as \"extrapulmonary tuberculosis\".[20] Extrapulmonary TB occurs more commonly in people with a weakened immune system and young children. In those with HIV, this occurs in more than 50% of cases.[20] Notable extrapulmonary infection sites include the pleura (in tuberculous pleurisy), the central nervous system (in tuberculous meningitis), the lymphatic system (in scrofula of the neck), the genitourinary system (in urogenital tuberculosis), and the bones and joints (in Pott disease of the spine), among others. A potentially more serious, widespread form of TB is called \"disseminated tuberculosis\", it is also known as miliary tuberculosis.[9] Miliary TB currently makes up about 10% of extrapulmonary cases.[21]',\n",
       "  {'entities': [(134, 161, 'MedicalCondition'),\n",
       "    (753, 773, 'MedicalCondition'),\n",
       "    (337, 361, 'MedicalCondition'),\n",
       "    (445, 467, 'MedicalCondition')]}),\n",
       " ('Although viruses cause disruption of healthy homeostasis, resulting in disease, they may exist relatively harmlessly within an organism. An example would include the ability of the herpes simplex virus, which causes cold sores, to remain in a dormant state within the human body. This is called latency[153] and is a characteristic of the herpes viruses, including Epsteinâ€“Barr virus, which causes glandular fever, and varicella zoster virus, which causes chickenpox and shingles. Most people have been infected with at least one of these types of herpes virus.[154] These latent viruses might sometimes be beneficial, as the presence of the virus can increase immunity against bacterial pathogens, such as Yersinia pestis.[155]',\n",
       "  {'entities': [(456, 466, 'MedicalCondition'),\n",
       "    (471, 479, 'MedicalCondition'),\n",
       "    (419, 441, 'Pathogen'),\n",
       "    (365, 383, 'Pathogen'),\n",
       "    (707, 722, 'Pathogen'),\n",
       "    (181, 201, 'Pathogen')]}),\n",
       " ('Examples of common human diseases caused by viruses include the common cold, influenza, chickenpox, and cold sores. Many serious diseases such as rabies, Ebola virus disease, AIDS (HIV), avian influenza, and SARS are caused by viruses. The relative ability of viruses to cause disease is described in terms of virulence. Other diseases are under investigation to discover if they have a virus as the causative agent, such as the possible connection between human herpesvirus 6 (HHV6) and neurological diseases such as multiple sclerosis and chronic fatigue syndrome.[151] There is controversy over whether the bornavirus, previously thought to cause neurological diseases in horses, could be responsible for psychiatric illnesses in humans.[152]',\n",
       "  {'entities': [(518, 536, 'MedicalCondition'),\n",
       "    (154, 165, 'Pathogen'),\n",
       "    (708, 729, 'MedicalCondition'),\n",
       "    (463, 476, 'Pathogen'),\n",
       "    (77, 86, 'MedicalCondition'),\n",
       "    (88, 98, 'MedicalCondition'),\n",
       "    (187, 202, 'MedicalCondition'),\n",
       "    (610, 620, 'Pathogen')]}),\n",
       " (\"All medical applications known so far involve not pure adamantane, but its derivatives. The first adamantane derivative used as a drug was amantadine â€“ first (1967) as an antiviral drug against various strains of flu[50] and then to treat Parkinson's disease.[51][52] Other drugs among adamantane derivatives include adapalene, adapromine, bromantane, carmantadine, chlodantane, dopamantine, memantine, rimantadine, saxagliptin, tromantadine, and vildagliptin. Polymers of adamantane have been patented as antiviral agents against HIV.[53]\",\n",
       "  {'entities': [(239, 258, 'MedicalCondition'),\n",
       "    (55, 65, 'Medicine'),\n",
       "    (531, 534, 'Pathogen'),\n",
       "    (416, 427, 'Medicine'),\n",
       "    (379, 390, 'Medicine'),\n",
       "    (352, 364, 'Medicine'),\n",
       "    (139, 149, 'Medicine')]}),\n",
       " ('Buprenorphine has been shown experimentally (1982â€“1995) to be effective against severe, refractory depression',\n",
       "  {'entities': [(0, 13, 'Medicine'), (88, 109, 'MedicalCondition')]}),\n",
       " ('Gabapentin, approved for treatment of seizures and postherpetic neuralgia in adults, has side-effects which are useful in treating bipolar disorder1, essential tremor, hot flashes, migraine prophylaxis, neuropathic pain syndromes, phantom limb syndrome, and restless leg syndrome.[11]',\n",
       "  {'entities': [(203, 229, 'MedicalCondition'),\n",
       "    (258, 279, 'MedicalCondition'),\n",
       "    (181, 201, 'MedicalCondition'),\n",
       "    (51, 73, 'MedicalCondition'),\n",
       "    (0, 10, 'Medicine'),\n",
       "    (38, 46, 'MedicalCondition')]}),\n",
       " ('Bupropion (Wellbutrin), an anti-depressant, is also used as a smoking cessation aid; this indication was later approved, and the name of the smoking cessation product is Zyban. In Ontario, Canada, smoking cessation drugs are not covered by provincial drug plans; elsewhere, Zyban is priced higher than Wellbutrin, despite being the same drug. Therefore, some physicians prescribe Wellbutrin for both indications.[',\n",
       "  {'entities': [(274, 279, 'Medicine'),\n",
       "    (11, 21, 'Medicine'),\n",
       "    (302, 312, 'Medicine'),\n",
       "    (380, 390, 'Medicine'),\n",
       "    (170, 175, 'Medicine'),\n",
       "    (0, 9, 'Medicine')]}),\n",
       " ('Carbamazepine is an approved treatment for bipolar disorder and epileptic seizures, but it has side effects useful in treating attention-deficit hyperactivity disorder (ADHD), schizophrenia, phantom limb syndrome, paroxysmal extreme pain disorder, neuromyotonia, and post-traumatic stress disorder.[8]',\n",
       "  {'entities': [(267, 288, 'MedicalCondition'),\n",
       "    (248, 261, 'MedicalCondition'),\n",
       "    (0, 13, 'Medicine'),\n",
       "    (43, 59, 'MedicalCondition'),\n",
       "    (145, 167, 'MedicalCondition'),\n",
       "    (176, 189, 'MedicalCondition'),\n",
       "    (64, 82, 'MedicalCondition'),\n",
       "    (191, 212, 'MedicalCondition')]}),\n",
       " ('The antiviral drugs amantadine and rimantadine inhibit a viral ion channel (M2 protein), thus inhibiting replication of the influenza A virus.[86] These drugs are sometimes effective against influenza A if given early in the infection but are ineffective against influenza B viruses, which lack the M2 drug target.[160] Measured resistance to amantadine and rimantadine in American isolates of H3N2 has increased to 91% in 2005.[161] This high level of resistance may be due to the easy availability of amantadines as part of over-the-counter cold remedies in countries such as China and Russia,[162] and their use to prevent outbreaks of influenza in farmed poultry.[163][164] The CDC recommended against using M2 inhibitors during the 2005â€“06 influenza season due to high levels of drug resistance.[165]',\n",
       "  {'entities': [(639, 648, 'MedicalCondition'),\n",
       "    (35, 46, 'Medicine'),\n",
       "    (712, 725, 'Medicine'),\n",
       "    (20, 30, 'Medicine')]}),\n",
       " ('The two classes of antiviral drugs used against influenza are neuraminidase inhibitors (oseltamivir, zanamivir, laninamivir and peramivir) and M2 protein inhibitors (adamantane derivatives)',\n",
       "  {'entities': [(128, 137, 'Medicine'),\n",
       "    (101, 110, 'Medicine'),\n",
       "    (112, 123, 'Medicine'),\n",
       "    (48, 57, 'MedicalCondition'),\n",
       "    (88, 99, 'Medicine')]}),\n",
       " ('Influenza, commonly known as \"the flu\", is an infectious disease caused by an influenza virus.[1] Symptoms can be mild to severe.[5] The most common symptoms include: high fever, runny nose, sore throat, muscle and joint pain, headache, coughing, and feeling tired.[1] These symptoms typically begin two days after exposure to the virus and most last less than a week.[1] The cough, however, may last for more than two weeks.[1] In children, there may be diarrhea and vomiting, but these are not common in adults.[6] Diarrhea and vomiting occur more commonly in gastroenteritis, which is an unrelated disease and sometimes inaccurately referred to as \"stomach flu\" or the \"24-hour flu\".[6] Complications of influenza may include viral pneumonia, secondary bacterial pneumonia, sinus infections, and worsening of previous health problems such as asthma or heart failure.[2][5]',\n",
       "  {'entities': [(191, 202, 'MedicalCondition'),\n",
       "    (0, 9, 'MedicalCondition'),\n",
       "    (756, 775, 'Pathogen'),\n",
       "    (468, 476, 'MedicalCondition'),\n",
       "    (227, 235, 'MedicalCondition'),\n",
       "    (845, 851, 'MedicalCondition'),\n",
       "    (237, 245, 'MedicalCondition'),\n",
       "    (777, 793, 'MedicalCondition'),\n",
       "    (855, 868, 'MedicalCondition'),\n",
       "    (215, 225, 'MedicalCondition'),\n",
       "    (652, 663, 'MedicalCondition'),\n",
       "    (251, 264, 'MedicalCondition'),\n",
       "    (455, 463, 'MedicalCondition'),\n",
       "    (78, 93, 'Pathogen')]})]"
      ]
     },
     "execution_count": 18,
     "metadata": {},
     "output_type": "execute_result"
    }
   ],
   "source": [
    "spacy_data"
   ]
  },
  {
   "cell_type": "code",
   "execution_count": 6,
   "metadata": {},
   "outputs": [],
   "source": [
    "with open('spacy_data.pkl', 'wb') as file:\n",
    "      \n",
    "    # A new file will be created\n",
    "    pickle.dump(spacy_data, file)"
   ]
  },
  {
   "cell_type": "code",
   "execution_count": 19,
   "metadata": {},
   "outputs": [],
   "source": [
    "model = None\n",
    "output_dir=Path(\"model\")\n",
    "n_iter=100"
   ]
  },
  {
   "cell_type": "code",
   "execution_count": 20,
   "metadata": {},
   "outputs": [
    {
     "name": "stdout",
     "output_type": "stream",
     "text": [
      "Created blank 'en' model\n"
     ]
    }
   ],
   "source": [
    "#load the model\n",
    "\n",
    "if model is not None:\n",
    "    nlp = spacy.load(model)  \n",
    "    print(\"Loaded model '%s'\" % model)\n",
    "else:\n",
    "    nlp = spacy.blank('en')  \n",
    "    print(\"Created blank 'en' model\")\n",
    "\n",
    "#set up the pipeline\n",
    "\n",
    "if 'ner' not in nlp.pipe_names:\n",
    "    ner = nlp.create_pipe('ner')\n",
    "    nlp.add_pipe('ner', last=True)\n",
    "else:\n",
    "    ner = nlp.get_pipe('ner')"
   ]
  },
  {
   "cell_type": "code",
   "execution_count": 21,
   "metadata": {},
   "outputs": [],
   "source": [
    "from spacy.training.example import Example"
   ]
  },
  {
   "cell_type": "code",
   "execution_count": 22,
   "metadata": {},
   "outputs": [
    {
     "name": "stderr",
     "output_type": "stream",
     "text": [
      "  0%|          | 0/31 [00:00<?, ?it/s]c:\\Users\\rajee\\Python_projects\\Oher ML projects\\Medical_NER\\med_ner\\Lib\\site-packages\\spacy\\training\\iob_utils.py:149: UserWarning: [W030] Some entities could not be aligned in the text \"Influenza, commonly known as \"the flu\", is an infe...\" with entities \"[(191, 202, 'MedicalCondition'), (0, 9, 'MedicalCo...\". Use `spacy.training.offsets_to_biluo_tags(nlp.make_doc(text), entities)` to check the alignment. Misaligned entities ('-') will be ignored during training.\n",
      "  warnings.warn(\n",
      "  6%|▋         | 2/31 [00:00<00:01, 15.60it/s]c:\\Users\\rajee\\Python_projects\\Oher ML projects\\Medical_NER\\med_ner\\Lib\\site-packages\\spacy\\training\\iob_utils.py:149: UserWarning: [W030] Some entities could not be aligned in the text \"While bismuth compounds (Pepto-Bismol) decreased t...\" with entities \"[(360, 371, 'Medicine'), (383, 408, 'Medicine'), (...\". Use `spacy.training.offsets_to_biluo_tags(nlp.make_doc(text), entities)` to check the alignment. Misaligned entities ('-') will be ignored during training.\n",
      "  warnings.warn(\n",
      " 13%|█▎        | 4/31 [00:00<00:01, 13.95it/s]c:\\Users\\rajee\\Python_projects\\Oher ML projects\\Medical_NER\\med_ner\\Lib\\site-packages\\spacy\\training\\iob_utils.py:149: UserWarning: [W030] Some entities could not be aligned in the text \"Bats are the most common source of rabies in human...\" with entities \"[(35, 41, 'MedicalCondition'), (162, 168, 'Medical...\". Use `spacy.training.offsets_to_biluo_tags(nlp.make_doc(text), entities)` to check the alignment. Misaligned entities ('-') will be ignored during training.\n",
      "  warnings.warn(\n",
      " 19%|█▉        | 6/31 [00:00<00:02, 12.31it/s]c:\\Users\\rajee\\Python_projects\\Oher ML projects\\Medical_NER\\med_ner\\Lib\\site-packages\\spacy\\training\\iob_utils.py:149: UserWarning: [W030] Some entities could not be aligned in the text \"Bacterial vaginosis is caused by bacteria that cha...\" with entities \"[(271, 282, 'MedicalCondition'), (0, 19, 'Pathogen...\". Use `spacy.training.offsets_to_biluo_tags(nlp.make_doc(text), entities)` to check the alignment. Misaligned entities ('-') will be ignored during training.\n",
      "  warnings.warn(\n",
      " 26%|██▌       | 8/31 [00:00<00:01, 12.54it/s]c:\\Users\\rajee\\Python_projects\\Oher ML projects\\Medical_NER\\med_ner\\Lib\\site-packages\\spacy\\training\\iob_utils.py:149: UserWarning: [W030] Some entities could not be aligned in the text \"The following drugs are considered as DMARDs: meth...\" with entities \"[(38, 44, 'Medicine'), (356, 374, 'Medicine'), (93...\". Use `spacy.training.offsets_to_biluo_tags(nlp.make_doc(text), entities)` to check the alignment. Misaligned entities ('-') will be ignored during training.\n",
      "  warnings.warn(\n",
      "c:\\Users\\rajee\\Python_projects\\Oher ML projects\\Medical_NER\\med_ner\\Lib\\site-packages\\spacy\\training\\iob_utils.py:149: UserWarning: [W030] Some entities could not be aligned in the text \"Hantaviruses, usually found in rodents and shrews,...\" with entities \"[(0, 12, 'Pathogen'), (394, 406, 'Pathogen'), (227...\". Use `spacy.training.offsets_to_biluo_tags(nlp.make_doc(text), entities)` to check the alignment. Misaligned entities ('-') will be ignored during training.\n",
      "  warnings.warn(\n",
      " 32%|███▏      | 10/31 [00:00<00:01, 12.28it/s]c:\\Users\\rajee\\Python_projects\\Oher ML projects\\Medical_NER\\med_ner\\Lib\\site-packages\\spacy\\training\\iob_utils.py:149: UserWarning: [W030] Some entities could not be aligned in the text \"Although viruses cause disruption of healthy homeo...\" with entities \"[(456, 466, 'MedicalCondition'), (471, 479, 'Medic...\". Use `spacy.training.offsets_to_biluo_tags(nlp.make_doc(text), entities)` to check the alignment. Misaligned entities ('-') will be ignored during training.\n",
      "  warnings.warn(\n",
      " 45%|████▌     | 14/31 [00:01<00:01, 13.11it/s]c:\\Users\\rajee\\Python_projects\\Oher ML projects\\Medical_NER\\med_ner\\Lib\\site-packages\\spacy\\training\\iob_utils.py:149: UserWarning: [W030] Some entities could not be aligned in the text \"Gabapentin, approved for treatment of seizures and...\" with entities \"[(203, 229, 'MedicalCondition'), (258, 279, 'Medic...\". Use `spacy.training.offsets_to_biluo_tags(nlp.make_doc(text), entities)` to check the alignment. Misaligned entities ('-') will be ignored during training.\n",
      "  warnings.warn(\n",
      " 55%|█████▍    | 17/31 [00:01<00:00, 14.95it/s]c:\\Users\\rajee\\Python_projects\\Oher ML projects\\Medical_NER\\med_ner\\Lib\\site-packages\\spacy\\training\\iob_utils.py:149: UserWarning: [W030] Some entities could not be aligned in the text \"In 2003, following the outbreak of severe acute re...\" with entities \"[(35, 68, 'MedicalCondition'), (70, 74, 'MedicalCo...\". Use `spacy.training.offsets_to_biluo_tags(nlp.make_doc(text), entities)` to check the alignment. Misaligned entities ('-') will be ignored during training.\n",
      "  warnings.warn(\n",
      " 61%|██████▏   | 19/31 [00:01<00:00, 15.11it/s]c:\\Users\\rajee\\Python_projects\\Oher ML projects\\Medical_NER\\med_ner\\Lib\\site-packages\\spacy\\training\\iob_utils.py:149: UserWarning: [W030] Some entities could not be aligned in the text \"Buprenorphine has been shown experimentally (1982â...\" with entities \"[(0, 13, 'Medicine'), (88, 109, 'MedicalCondition'...\". Use `spacy.training.offsets_to_biluo_tags(nlp.make_doc(text), entities)` to check the alignment. Misaligned entities ('-') will be ignored during training.\n",
      "  warnings.warn(\n",
      "c:\\Users\\rajee\\Python_projects\\Oher ML projects\\Medical_NER\\med_ner\\Lib\\site-packages\\spacy\\training\\iob_utils.py:149: UserWarning: [W030] Some entities could not be aligned in the text \"All medical applications known so far involve not ...\" with entities \"[(239, 258, 'MedicalCondition'), (55, 65, 'Medicin...\". Use `spacy.training.offsets_to_biluo_tags(nlp.make_doc(text), entities)` to check the alignment. Misaligned entities ('-') will be ignored during training.\n",
      "  warnings.warn(\n",
      " 90%|█████████ | 28/31 [00:01<00:00, 15.23it/s]c:\\Users\\rajee\\Python_projects\\Oher ML projects\\Medical_NER\\med_ner\\Lib\\site-packages\\spacy\\training\\iob_utils.py:149: UserWarning: [W030] Some entities could not be aligned in the text \"In 15â€“20% of active cases, the infection spreads...\" with entities \"[(134, 161, 'MedicalCondition'), (753, 773, 'Medic...\". Use `spacy.training.offsets_to_biluo_tags(nlp.make_doc(text), entities)` to check the alignment. Misaligned entities ('-') will be ignored during training.\n",
      "  warnings.warn(\n",
      "c:\\Users\\rajee\\Python_projects\\Oher ML projects\\Medical_NER\\med_ner\\Lib\\site-packages\\spacy\\training\\iob_utils.py:149: UserWarning: [W030] Some entities could not be aligned in the text \"Latent TB is treated with either isoniazid or rifa...\" with entities \"[(118, 129, 'Medicine'), (33, 42, 'Medicine'), (46...\". Use `spacy.training.offsets_to_biluo_tags(nlp.make_doc(text), entities)` to check the alignment. Misaligned entities ('-') will be ignored during training.\n",
      "  warnings.warn(\n",
      " 97%|█████████▋| 30/31 [00:02<00:00, 15.09it/s]c:\\Users\\rajee\\Python_projects\\Oher ML projects\\Medical_NER\\med_ner\\Lib\\site-packages\\spacy\\training\\iob_utils.py:149: UserWarning: [W030] Some entities could not be aligned in the text \"If a tuberculosis infection does become active, it...\" with entities \"[(523, 541, 'MedicalCondition'), (138, 148, 'Medic...\". Use `spacy.training.offsets_to_biluo_tags(nlp.make_doc(text), entities)` to check the alignment. Misaligned entities ('-') will be ignored during training.\n",
      "  warnings.warn(\n",
      "100%|██████████| 31/31 [00:02<00:00, 14.27it/s]\n"
     ]
    },
    {
     "name": "stdout",
     "output_type": "stream",
     "text": [
      "{'ner': 1487.6876494548826}\n"
     ]
    },
    {
     "name": "stderr",
     "output_type": "stream",
     "text": [
      "100%|██████████| 31/31 [00:01<00:00, 17.87it/s]\n"
     ]
    },
    {
     "name": "stdout",
     "output_type": "stream",
     "text": [
      "{'ner': 409.6899568421771}\n"
     ]
    },
    {
     "name": "stderr",
     "output_type": "stream",
     "text": [
      "100%|██████████| 31/31 [00:01<00:00, 17.79it/s]\n"
     ]
    },
    {
     "name": "stdout",
     "output_type": "stream",
     "text": [
      "{'ner': 410.29770855103436}\n"
     ]
    },
    {
     "name": "stderr",
     "output_type": "stream",
     "text": [
      "100%|██████████| 31/31 [00:01<00:00, 17.14it/s]\n"
     ]
    },
    {
     "name": "stdout",
     "output_type": "stream",
     "text": [
      "{'ner': 368.3209995887102}\n"
     ]
    },
    {
     "name": "stderr",
     "output_type": "stream",
     "text": [
      "100%|██████████| 31/31 [00:01<00:00, 18.13it/s]\n"
     ]
    },
    {
     "name": "stdout",
     "output_type": "stream",
     "text": [
      "{'ner': 434.19761062086513}\n"
     ]
    },
    {
     "name": "stderr",
     "output_type": "stream",
     "text": [
      "100%|██████████| 31/31 [00:01<00:00, 17.53it/s]\n"
     ]
    },
    {
     "name": "stdout",
     "output_type": "stream",
     "text": [
      "{'ner': 336.4529637178209}\n"
     ]
    },
    {
     "name": "stderr",
     "output_type": "stream",
     "text": [
      "100%|██████████| 31/31 [00:01<00:00, 17.85it/s]\n"
     ]
    },
    {
     "name": "stdout",
     "output_type": "stream",
     "text": [
      "{'ner': 311.87992183529434}\n"
     ]
    },
    {
     "name": "stderr",
     "output_type": "stream",
     "text": [
      "100%|██████████| 31/31 [00:01<00:00, 18.54it/s]\n"
     ]
    },
    {
     "name": "stdout",
     "output_type": "stream",
     "text": [
      "{'ner': 300.4967065427707}\n"
     ]
    },
    {
     "name": "stderr",
     "output_type": "stream",
     "text": [
      "100%|██████████| 31/31 [00:02<00:00, 15.42it/s]\n"
     ]
    },
    {
     "name": "stdout",
     "output_type": "stream",
     "text": [
      "{'ner': 299.7246766335697}\n"
     ]
    },
    {
     "name": "stderr",
     "output_type": "stream",
     "text": [
      "100%|██████████| 31/31 [00:01<00:00, 17.52it/s]\n"
     ]
    },
    {
     "name": "stdout",
     "output_type": "stream",
     "text": [
      "{'ner': 283.86304456648315}\n"
     ]
    },
    {
     "name": "stderr",
     "output_type": "stream",
     "text": [
      "100%|██████████| 31/31 [00:01<00:00, 18.13it/s]\n"
     ]
    },
    {
     "name": "stdout",
     "output_type": "stream",
     "text": [
      "{'ner': 399.01656775192396}\n"
     ]
    },
    {
     "name": "stderr",
     "output_type": "stream",
     "text": [
      "100%|██████████| 31/31 [00:01<00:00, 17.79it/s]\n"
     ]
    },
    {
     "name": "stdout",
     "output_type": "stream",
     "text": [
      "{'ner': 336.30730202690984}\n"
     ]
    },
    {
     "name": "stderr",
     "output_type": "stream",
     "text": [
      "100%|██████████| 31/31 [00:01<00:00, 17.89it/s]\n"
     ]
    },
    {
     "name": "stdout",
     "output_type": "stream",
     "text": [
      "{'ner': 254.49999200279734}\n"
     ]
    },
    {
     "name": "stderr",
     "output_type": "stream",
     "text": [
      "100%|██████████| 31/31 [00:01<00:00, 16.93it/s]\n"
     ]
    },
    {
     "name": "stdout",
     "output_type": "stream",
     "text": [
      "{'ner': 262.3687446038126}\n"
     ]
    },
    {
     "name": "stderr",
     "output_type": "stream",
     "text": [
      "100%|██████████| 31/31 [00:02<00:00, 15.30it/s]\n"
     ]
    },
    {
     "name": "stdout",
     "output_type": "stream",
     "text": [
      "{'ner': 378.2856029932058}\n"
     ]
    },
    {
     "name": "stderr",
     "output_type": "stream",
     "text": [
      "100%|██████████| 31/31 [00:01<00:00, 18.58it/s]\n"
     ]
    },
    {
     "name": "stdout",
     "output_type": "stream",
     "text": [
      "{'ner': 295.153453018392}\n"
     ]
    },
    {
     "name": "stderr",
     "output_type": "stream",
     "text": [
      "100%|██████████| 31/31 [00:02<00:00, 14.87it/s]\n"
     ]
    },
    {
     "name": "stdout",
     "output_type": "stream",
     "text": [
      "{'ner': 272.4212470928402}\n"
     ]
    },
    {
     "name": "stderr",
     "output_type": "stream",
     "text": [
      "100%|██████████| 31/31 [00:02<00:00, 14.95it/s]\n"
     ]
    },
    {
     "name": "stdout",
     "output_type": "stream",
     "text": [
      "{'ner': 209.60336728600566}\n"
     ]
    },
    {
     "name": "stderr",
     "output_type": "stream",
     "text": [
      "100%|██████████| 31/31 [00:01<00:00, 19.03it/s]\n"
     ]
    },
    {
     "name": "stdout",
     "output_type": "stream",
     "text": [
      "{'ner': 186.5048068318966}\n"
     ]
    },
    {
     "name": "stderr",
     "output_type": "stream",
     "text": [
      "100%|██████████| 31/31 [00:01<00:00, 15.73it/s]\n"
     ]
    },
    {
     "name": "stdout",
     "output_type": "stream",
     "text": [
      "{'ner': 193.23918041846264}\n"
     ]
    },
    {
     "name": "stderr",
     "output_type": "stream",
     "text": [
      "100%|██████████| 31/31 [00:01<00:00, 19.27it/s]\n"
     ]
    },
    {
     "name": "stdout",
     "output_type": "stream",
     "text": [
      "{'ner': 193.91510586374847}\n"
     ]
    },
    {
     "name": "stderr",
     "output_type": "stream",
     "text": [
      "100%|██████████| 31/31 [00:01<00:00, 19.04it/s]\n"
     ]
    },
    {
     "name": "stdout",
     "output_type": "stream",
     "text": [
      "{'ner': 182.24471260717362}\n"
     ]
    },
    {
     "name": "stderr",
     "output_type": "stream",
     "text": [
      "100%|██████████| 31/31 [00:01<00:00, 16.05it/s]\n"
     ]
    },
    {
     "name": "stdout",
     "output_type": "stream",
     "text": [
      "{'ner': 174.94007524454912}\n"
     ]
    },
    {
     "name": "stderr",
     "output_type": "stream",
     "text": [
      "100%|██████████| 31/31 [00:01<00:00, 18.01it/s]\n"
     ]
    },
    {
     "name": "stdout",
     "output_type": "stream",
     "text": [
      "{'ner': 186.99569236447778}\n"
     ]
    },
    {
     "name": "stderr",
     "output_type": "stream",
     "text": [
      "100%|██████████| 31/31 [00:02<00:00, 14.27it/s]\n"
     ]
    },
    {
     "name": "stdout",
     "output_type": "stream",
     "text": [
      "{'ner': 186.04348307845441}\n"
     ]
    },
    {
     "name": "stderr",
     "output_type": "stream",
     "text": [
      "100%|██████████| 31/31 [00:02<00:00, 13.97it/s]\n"
     ]
    },
    {
     "name": "stdout",
     "output_type": "stream",
     "text": [
      "{'ner': 168.83417446257536}\n"
     ]
    },
    {
     "name": "stderr",
     "output_type": "stream",
     "text": [
      "100%|██████████| 31/31 [00:01<00:00, 17.70it/s]\n"
     ]
    },
    {
     "name": "stdout",
     "output_type": "stream",
     "text": [
      "{'ner': 152.6255824840854}\n"
     ]
    },
    {
     "name": "stderr",
     "output_type": "stream",
     "text": [
      "100%|██████████| 31/31 [00:01<00:00, 18.42it/s]\n"
     ]
    },
    {
     "name": "stdout",
     "output_type": "stream",
     "text": [
      "{'ner': 199.81538871196634}\n"
     ]
    },
    {
     "name": "stderr",
     "output_type": "stream",
     "text": [
      "100%|██████████| 31/31 [00:01<00:00, 18.55it/s]\n"
     ]
    },
    {
     "name": "stdout",
     "output_type": "stream",
     "text": [
      "{'ner': 139.5365448083582}\n"
     ]
    },
    {
     "name": "stderr",
     "output_type": "stream",
     "text": [
      "100%|██████████| 31/31 [00:01<00:00, 18.93it/s]\n"
     ]
    },
    {
     "name": "stdout",
     "output_type": "stream",
     "text": [
      "{'ner': 149.465723819517}\n"
     ]
    },
    {
     "name": "stderr",
     "output_type": "stream",
     "text": [
      "100%|██████████| 31/31 [00:01<00:00, 18.89it/s]\n"
     ]
    },
    {
     "name": "stdout",
     "output_type": "stream",
     "text": [
      "{'ner': 155.5501178670923}\n"
     ]
    },
    {
     "name": "stderr",
     "output_type": "stream",
     "text": [
      "100%|██████████| 31/31 [00:01<00:00, 18.85it/s]\n"
     ]
    },
    {
     "name": "stdout",
     "output_type": "stream",
     "text": [
      "{'ner': 149.86793407775613}\n"
     ]
    },
    {
     "name": "stderr",
     "output_type": "stream",
     "text": [
      "100%|██████████| 31/31 [00:01<00:00, 18.65it/s]\n"
     ]
    },
    {
     "name": "stdout",
     "output_type": "stream",
     "text": [
      "{'ner': 145.0198050065652}\n"
     ]
    },
    {
     "name": "stderr",
     "output_type": "stream",
     "text": [
      "100%|██████████| 31/31 [00:01<00:00, 17.82it/s]\n"
     ]
    },
    {
     "name": "stdout",
     "output_type": "stream",
     "text": [
      "{'ner': 112.36208550810377}\n"
     ]
    },
    {
     "name": "stderr",
     "output_type": "stream",
     "text": [
      "100%|██████████| 31/31 [00:01<00:00, 18.32it/s]\n"
     ]
    },
    {
     "name": "stdout",
     "output_type": "stream",
     "text": [
      "{'ner': 129.7637124621374}\n"
     ]
    },
    {
     "name": "stderr",
     "output_type": "stream",
     "text": [
      "100%|██████████| 31/31 [00:01<00:00, 18.32it/s]\n"
     ]
    },
    {
     "name": "stdout",
     "output_type": "stream",
     "text": [
      "{'ner': 129.99615414460936}\n"
     ]
    },
    {
     "name": "stderr",
     "output_type": "stream",
     "text": [
      "100%|██████████| 31/31 [00:01<00:00, 18.11it/s]\n"
     ]
    },
    {
     "name": "stdout",
     "output_type": "stream",
     "text": [
      "{'ner': 108.57149729719622}\n"
     ]
    },
    {
     "name": "stderr",
     "output_type": "stream",
     "text": [
      "100%|██████████| 31/31 [00:01<00:00, 16.76it/s]\n"
     ]
    },
    {
     "name": "stdout",
     "output_type": "stream",
     "text": [
      "{'ner': 105.89051451989657}\n"
     ]
    },
    {
     "name": "stderr",
     "output_type": "stream",
     "text": [
      "100%|██████████| 31/31 [00:01<00:00, 18.36it/s]\n"
     ]
    },
    {
     "name": "stdout",
     "output_type": "stream",
     "text": [
      "{'ner': 113.09321377489002}\n"
     ]
    },
    {
     "name": "stderr",
     "output_type": "stream",
     "text": [
      "100%|██████████| 31/31 [00:01<00:00, 17.37it/s]\n"
     ]
    },
    {
     "name": "stdout",
     "output_type": "stream",
     "text": [
      "{'ner': 118.20057571160038}\n"
     ]
    },
    {
     "name": "stderr",
     "output_type": "stream",
     "text": [
      "100%|██████████| 31/31 [00:01<00:00, 17.74it/s]\n"
     ]
    },
    {
     "name": "stdout",
     "output_type": "stream",
     "text": [
      "{'ner': 99.5165604966031}\n"
     ]
    },
    {
     "name": "stderr",
     "output_type": "stream",
     "text": [
      "100%|██████████| 31/31 [00:01<00:00, 17.97it/s]\n"
     ]
    },
    {
     "name": "stdout",
     "output_type": "stream",
     "text": [
      "{'ner': 119.06650662525679}\n"
     ]
    },
    {
     "name": "stderr",
     "output_type": "stream",
     "text": [
      "100%|██████████| 31/31 [00:01<00:00, 18.38it/s]\n"
     ]
    },
    {
     "name": "stdout",
     "output_type": "stream",
     "text": [
      "{'ner': 116.43481204434536}\n"
     ]
    },
    {
     "name": "stderr",
     "output_type": "stream",
     "text": [
      "100%|██████████| 31/31 [00:01<00:00, 17.77it/s]\n"
     ]
    },
    {
     "name": "stdout",
     "output_type": "stream",
     "text": [
      "{'ner': 134.84378828236856}\n"
     ]
    },
    {
     "name": "stderr",
     "output_type": "stream",
     "text": [
      "100%|██████████| 31/31 [00:01<00:00, 17.12it/s]\n"
     ]
    },
    {
     "name": "stdout",
     "output_type": "stream",
     "text": [
      "{'ner': 103.426892757242}\n"
     ]
    },
    {
     "name": "stderr",
     "output_type": "stream",
     "text": [
      "100%|██████████| 31/31 [00:01<00:00, 17.94it/s]\n"
     ]
    },
    {
     "name": "stdout",
     "output_type": "stream",
     "text": [
      "{'ner': 98.47449270583178}\n"
     ]
    },
    {
     "name": "stderr",
     "output_type": "stream",
     "text": [
      "100%|██████████| 31/31 [00:01<00:00, 18.34it/s]\n"
     ]
    },
    {
     "name": "stdout",
     "output_type": "stream",
     "text": [
      "{'ner': 91.57430931086508}\n"
     ]
    },
    {
     "name": "stderr",
     "output_type": "stream",
     "text": [
      "100%|██████████| 31/31 [00:01<00:00, 18.04it/s]\n"
     ]
    },
    {
     "name": "stdout",
     "output_type": "stream",
     "text": [
      "{'ner': 94.53288237527117}\n"
     ]
    },
    {
     "name": "stderr",
     "output_type": "stream",
     "text": [
      "100%|██████████| 31/31 [00:02<00:00, 14.88it/s]\n"
     ]
    },
    {
     "name": "stdout",
     "output_type": "stream",
     "text": [
      "{'ner': 113.77556824401115}\n"
     ]
    },
    {
     "name": "stderr",
     "output_type": "stream",
     "text": [
      "100%|██████████| 31/31 [00:02<00:00, 13.96it/s]\n"
     ]
    },
    {
     "name": "stdout",
     "output_type": "stream",
     "text": [
      "{'ner': 94.8467335334057}\n"
     ]
    },
    {
     "name": "stderr",
     "output_type": "stream",
     "text": [
      "100%|██████████| 31/31 [00:01<00:00, 16.90it/s]\n"
     ]
    },
    {
     "name": "stdout",
     "output_type": "stream",
     "text": [
      "{'ner': 91.02861689287217}\n"
     ]
    },
    {
     "name": "stderr",
     "output_type": "stream",
     "text": [
      "100%|██████████| 31/31 [00:01<00:00, 17.66it/s]\n"
     ]
    },
    {
     "name": "stdout",
     "output_type": "stream",
     "text": [
      "{'ner': 95.53783199707262}\n"
     ]
    },
    {
     "name": "stderr",
     "output_type": "stream",
     "text": [
      "100%|██████████| 31/31 [00:01<00:00, 18.41it/s]\n"
     ]
    },
    {
     "name": "stdout",
     "output_type": "stream",
     "text": [
      "{'ner': 92.73906556500553}\n"
     ]
    },
    {
     "name": "stderr",
     "output_type": "stream",
     "text": [
      "100%|██████████| 31/31 [00:02<00:00, 14.37it/s]\n"
     ]
    },
    {
     "name": "stdout",
     "output_type": "stream",
     "text": [
      "{'ner': 83.07967971430159}\n"
     ]
    },
    {
     "name": "stderr",
     "output_type": "stream",
     "text": [
      "100%|██████████| 31/31 [00:02<00:00, 14.79it/s]\n"
     ]
    },
    {
     "name": "stdout",
     "output_type": "stream",
     "text": [
      "{'ner': 93.51813934437689}\n"
     ]
    },
    {
     "name": "stderr",
     "output_type": "stream",
     "text": [
      "100%|██████████| 31/31 [00:01<00:00, 18.74it/s]\n"
     ]
    },
    {
     "name": "stdout",
     "output_type": "stream",
     "text": [
      "{'ner': 92.15895211475883}\n"
     ]
    },
    {
     "name": "stderr",
     "output_type": "stream",
     "text": [
      "100%|██████████| 31/31 [00:01<00:00, 18.09it/s]\n"
     ]
    },
    {
     "name": "stdout",
     "output_type": "stream",
     "text": [
      "{'ner': 91.5033050702616}\n"
     ]
    },
    {
     "name": "stderr",
     "output_type": "stream",
     "text": [
      "100%|██████████| 31/31 [00:01<00:00, 18.60it/s]\n"
     ]
    },
    {
     "name": "stdout",
     "output_type": "stream",
     "text": [
      "{'ner': 77.4986417932769}\n"
     ]
    },
    {
     "name": "stderr",
     "output_type": "stream",
     "text": [
      "100%|██████████| 31/31 [00:01<00:00, 17.84it/s]\n"
     ]
    },
    {
     "name": "stdout",
     "output_type": "stream",
     "text": [
      "{'ner': 73.79004474982605}\n"
     ]
    },
    {
     "name": "stderr",
     "output_type": "stream",
     "text": [
      "100%|██████████| 31/31 [00:01<00:00, 16.93it/s]\n"
     ]
    },
    {
     "name": "stdout",
     "output_type": "stream",
     "text": [
      "{'ner': 94.98744402517431}\n"
     ]
    },
    {
     "name": "stderr",
     "output_type": "stream",
     "text": [
      "100%|██████████| 31/31 [00:02<00:00, 13.13it/s]\n"
     ]
    },
    {
     "name": "stdout",
     "output_type": "stream",
     "text": [
      "{'ner': 78.6462980610883}\n"
     ]
    },
    {
     "name": "stderr",
     "output_type": "stream",
     "text": [
      "100%|██████████| 31/31 [00:02<00:00, 13.91it/s]\n"
     ]
    },
    {
     "name": "stdout",
     "output_type": "stream",
     "text": [
      "{'ner': 67.00836409434957}\n"
     ]
    },
    {
     "name": "stderr",
     "output_type": "stream",
     "text": [
      "100%|██████████| 31/31 [00:01<00:00, 16.98it/s]\n"
     ]
    },
    {
     "name": "stdout",
     "output_type": "stream",
     "text": [
      "{'ner': 62.18813415514236}\n"
     ]
    },
    {
     "name": "stderr",
     "output_type": "stream",
     "text": [
      "100%|██████████| 31/31 [00:02<00:00, 14.33it/s]\n"
     ]
    },
    {
     "name": "stdout",
     "output_type": "stream",
     "text": [
      "{'ner': 82.44405587144769}\n"
     ]
    },
    {
     "name": "stderr",
     "output_type": "stream",
     "text": [
      "100%|██████████| 31/31 [00:04<00:00,  6.41it/s]\n"
     ]
    },
    {
     "name": "stdout",
     "output_type": "stream",
     "text": [
      "{'ner': 78.33282674510409}\n"
     ]
    },
    {
     "name": "stderr",
     "output_type": "stream",
     "text": [
      "100%|██████████| 31/31 [00:02<00:00, 12.41it/s]\n"
     ]
    },
    {
     "name": "stdout",
     "output_type": "stream",
     "text": [
      "{'ner': 71.13420475316575}\n"
     ]
    },
    {
     "name": "stderr",
     "output_type": "stream",
     "text": [
      "100%|██████████| 31/31 [00:01<00:00, 17.49it/s]\n"
     ]
    },
    {
     "name": "stdout",
     "output_type": "stream",
     "text": [
      "{'ner': 73.40656924884237}\n"
     ]
    },
    {
     "name": "stderr",
     "output_type": "stream",
     "text": [
      "100%|██████████| 31/31 [00:01<00:00, 17.62it/s]\n"
     ]
    },
    {
     "name": "stdout",
     "output_type": "stream",
     "text": [
      "{'ner': 61.8519214272052}\n"
     ]
    },
    {
     "name": "stderr",
     "output_type": "stream",
     "text": [
      "100%|██████████| 31/31 [00:01<00:00, 17.44it/s]\n"
     ]
    },
    {
     "name": "stdout",
     "output_type": "stream",
     "text": [
      "{'ner': 69.30066068154497}\n"
     ]
    },
    {
     "name": "stderr",
     "output_type": "stream",
     "text": [
      "100%|██████████| 31/31 [00:01<00:00, 17.11it/s]\n"
     ]
    },
    {
     "name": "stdout",
     "output_type": "stream",
     "text": [
      "{'ner': 83.70180038545729}\n"
     ]
    },
    {
     "name": "stderr",
     "output_type": "stream",
     "text": [
      "100%|██████████| 31/31 [00:01<00:00, 17.10it/s]\n"
     ]
    },
    {
     "name": "stdout",
     "output_type": "stream",
     "text": [
      "{'ner': 76.28888842519024}\n"
     ]
    },
    {
     "name": "stderr",
     "output_type": "stream",
     "text": [
      "100%|██████████| 31/31 [00:01<00:00, 17.78it/s]\n"
     ]
    },
    {
     "name": "stdout",
     "output_type": "stream",
     "text": [
      "{'ner': 55.0900054900595}\n"
     ]
    },
    {
     "name": "stderr",
     "output_type": "stream",
     "text": [
      "100%|██████████| 31/31 [00:01<00:00, 17.18it/s]\n"
     ]
    },
    {
     "name": "stdout",
     "output_type": "stream",
     "text": [
      "{'ner': 58.359025911666656}\n"
     ]
    },
    {
     "name": "stderr",
     "output_type": "stream",
     "text": [
      "100%|██████████| 31/31 [00:01<00:00, 16.95it/s]\n"
     ]
    },
    {
     "name": "stdout",
     "output_type": "stream",
     "text": [
      "{'ner': 70.33018293597927}\n"
     ]
    },
    {
     "name": "stderr",
     "output_type": "stream",
     "text": [
      "100%|██████████| 31/31 [00:01<00:00, 17.02it/s]\n"
     ]
    },
    {
     "name": "stdout",
     "output_type": "stream",
     "text": [
      "{'ner': 57.49857404369167}\n"
     ]
    },
    {
     "name": "stderr",
     "output_type": "stream",
     "text": [
      "100%|██████████| 31/31 [00:01<00:00, 17.25it/s]\n"
     ]
    },
    {
     "name": "stdout",
     "output_type": "stream",
     "text": [
      "{'ner': 76.52820332063408}\n"
     ]
    },
    {
     "name": "stderr",
     "output_type": "stream",
     "text": [
      "100%|██████████| 31/31 [00:01<00:00, 18.19it/s]\n"
     ]
    },
    {
     "name": "stdout",
     "output_type": "stream",
     "text": [
      "{'ner': 67.08280859121086}\n"
     ]
    },
    {
     "name": "stderr",
     "output_type": "stream",
     "text": [
      "100%|██████████| 31/31 [00:01<00:00, 17.18it/s]\n"
     ]
    },
    {
     "name": "stdout",
     "output_type": "stream",
     "text": [
      "{'ner': 67.73138803380542}\n"
     ]
    },
    {
     "name": "stderr",
     "output_type": "stream",
     "text": [
      "100%|██████████| 31/31 [00:01<00:00, 17.62it/s]\n"
     ]
    },
    {
     "name": "stdout",
     "output_type": "stream",
     "text": [
      "{'ner': 40.037439592704736}\n"
     ]
    },
    {
     "name": "stderr",
     "output_type": "stream",
     "text": [
      "100%|██████████| 31/31 [00:01<00:00, 16.77it/s]\n"
     ]
    },
    {
     "name": "stdout",
     "output_type": "stream",
     "text": [
      "{'ner': 55.20963857766617}\n"
     ]
    },
    {
     "name": "stderr",
     "output_type": "stream",
     "text": [
      "100%|██████████| 31/31 [00:01<00:00, 16.76it/s]\n"
     ]
    },
    {
     "name": "stdout",
     "output_type": "stream",
     "text": [
      "{'ner': 40.64173234070166}\n"
     ]
    },
    {
     "name": "stderr",
     "output_type": "stream",
     "text": [
      "100%|██████████| 31/31 [00:01<00:00, 16.67it/s]\n"
     ]
    },
    {
     "name": "stdout",
     "output_type": "stream",
     "text": [
      "{'ner': 54.51202012139417}\n"
     ]
    },
    {
     "name": "stderr",
     "output_type": "stream",
     "text": [
      "100%|██████████| 31/31 [00:02<00:00, 15.45it/s]\n"
     ]
    },
    {
     "name": "stdout",
     "output_type": "stream",
     "text": [
      "{'ner': 45.22875839571336}\n"
     ]
    },
    {
     "name": "stderr",
     "output_type": "stream",
     "text": [
      "100%|██████████| 31/31 [00:02<00:00, 11.07it/s]\n"
     ]
    },
    {
     "name": "stdout",
     "output_type": "stream",
     "text": [
      "{'ner': 68.55228415174996}\n"
     ]
    },
    {
     "name": "stderr",
     "output_type": "stream",
     "text": [
      "100%|██████████| 31/31 [00:01<00:00, 16.74it/s]\n"
     ]
    },
    {
     "name": "stdout",
     "output_type": "stream",
     "text": [
      "{'ner': 54.14270300810058}\n"
     ]
    },
    {
     "name": "stderr",
     "output_type": "stream",
     "text": [
      "100%|██████████| 31/31 [00:01<00:00, 17.34it/s]\n"
     ]
    },
    {
     "name": "stdout",
     "output_type": "stream",
     "text": [
      "{'ner': 46.73296137870115}\n"
     ]
    },
    {
     "name": "stderr",
     "output_type": "stream",
     "text": [
      "100%|██████████| 31/31 [00:01<00:00, 17.03it/s]\n"
     ]
    },
    {
     "name": "stdout",
     "output_type": "stream",
     "text": [
      "{'ner': 37.89997874299135}\n"
     ]
    },
    {
     "name": "stderr",
     "output_type": "stream",
     "text": [
      "100%|██████████| 31/31 [00:01<00:00, 16.31it/s]\n"
     ]
    },
    {
     "name": "stdout",
     "output_type": "stream",
     "text": [
      "{'ner': 38.87583665777869}\n"
     ]
    },
    {
     "name": "stderr",
     "output_type": "stream",
     "text": [
      "100%|██████████| 31/31 [00:01<00:00, 16.74it/s]\n"
     ]
    },
    {
     "name": "stdout",
     "output_type": "stream",
     "text": [
      "{'ner': 45.14650646069094}\n"
     ]
    },
    {
     "name": "stderr",
     "output_type": "stream",
     "text": [
      "100%|██████████| 31/31 [00:01<00:00, 16.99it/s]\n"
     ]
    },
    {
     "name": "stdout",
     "output_type": "stream",
     "text": [
      "{'ner': 43.30093049616621}\n"
     ]
    },
    {
     "name": "stderr",
     "output_type": "stream",
     "text": [
      "100%|██████████| 31/31 [00:02<00:00, 13.06it/s]\n"
     ]
    },
    {
     "name": "stdout",
     "output_type": "stream",
     "text": [
      "{'ner': 42.37637426584144}\n"
     ]
    },
    {
     "name": "stderr",
     "output_type": "stream",
     "text": [
      "100%|██████████| 31/31 [00:02<00:00, 12.67it/s]\n"
     ]
    },
    {
     "name": "stdout",
     "output_type": "stream",
     "text": [
      "{'ner': 34.30052278968459}\n"
     ]
    },
    {
     "name": "stderr",
     "output_type": "stream",
     "text": [
      "100%|██████████| 31/31 [00:01<00:00, 16.97it/s]\n"
     ]
    },
    {
     "name": "stdout",
     "output_type": "stream",
     "text": [
      "{'ner': 39.42431048744938}\n"
     ]
    },
    {
     "name": "stderr",
     "output_type": "stream",
     "text": [
      "100%|██████████| 31/31 [00:01<00:00, 16.90it/s]\n"
     ]
    },
    {
     "name": "stdout",
     "output_type": "stream",
     "text": [
      "{'ner': 34.73513999262922}\n"
     ]
    },
    {
     "name": "stderr",
     "output_type": "stream",
     "text": [
      "100%|██████████| 31/31 [00:01<00:00, 16.21it/s]\n"
     ]
    },
    {
     "name": "stdout",
     "output_type": "stream",
     "text": [
      "{'ner': 48.826881785204314}\n"
     ]
    },
    {
     "name": "stderr",
     "output_type": "stream",
     "text": [
      "100%|██████████| 31/31 [00:02<00:00, 13.24it/s]\n"
     ]
    },
    {
     "name": "stdout",
     "output_type": "stream",
     "text": [
      "{'ner': 50.38261038287482}\n"
     ]
    },
    {
     "name": "stderr",
     "output_type": "stream",
     "text": [
      "100%|██████████| 31/31 [00:02<00:00, 12.24it/s]\n"
     ]
    },
    {
     "name": "stdout",
     "output_type": "stream",
     "text": [
      "{'ner': 43.489847326828865}\n"
     ]
    },
    {
     "name": "stderr",
     "output_type": "stream",
     "text": [
      "100%|██████████| 31/31 [00:02<00:00, 11.69it/s]\n"
     ]
    },
    {
     "name": "stdout",
     "output_type": "stream",
     "text": [
      "{'ner': 42.84927176066932}\n"
     ]
    },
    {
     "name": "stderr",
     "output_type": "stream",
     "text": [
      "100%|██████████| 31/31 [00:02<00:00, 12.09it/s]\n"
     ]
    },
    {
     "name": "stdout",
     "output_type": "stream",
     "text": [
      "{'ner': 49.95885315503507}\n"
     ]
    },
    {
     "name": "stderr",
     "output_type": "stream",
     "text": [
      "100%|██████████| 31/31 [00:01<00:00, 16.75it/s]"
     ]
    },
    {
     "name": "stdout",
     "output_type": "stream",
     "text": [
      "{'ner': 42.330493922585774}\n"
     ]
    },
    {
     "name": "stderr",
     "output_type": "stream",
     "text": [
      "\n"
     ]
    }
   ],
   "source": [
    "\n",
    "for _, annotations in spacy_data:\n",
    "    for ent in annotations.get('entities'):\n",
    "        ner.add_label(ent[2])\n",
    "\n",
    "other_pipes = [pipe for pipe in nlp.pipe_names if pipe != 'ner']\n",
    "with nlp.disable_pipes(*other_pipes):  # only train NER\n",
    "    optimizer = nlp.begin_training()\n",
    "    for itn in range(n_iter):\n",
    "        random.shuffle(spacy_data)\n",
    "        losses = {}\n",
    "        for text, annotations in tqdm(spacy_data):\n",
    "            doc = nlp.make_doc(text)\n",
    "            example = Example.from_dict(doc, annotations)\n",
    "            nlp.update(\n",
    "                [example],  \n",
    "                drop=0.5,  \n",
    "                sgd=optimizer,\n",
    "                losses=losses)\n",
    "        print(losses)"
   ]
  },
  {
   "cell_type": "code",
   "execution_count": 23,
   "metadata": {},
   "outputs": [
    {
     "name": "stdout",
     "output_type": "stream",
     "text": [
      "Saved model to model\n"
     ]
    }
   ],
   "source": [
    "\n",
    "if output_dir is not None:\n",
    "    output_dir = Path(output_dir)\n",
    "    if not output_dir.exists():\n",
    "        output_dir.mkdir()\n",
    "    nlp.to_disk(output_dir)\n",
    "    print(\"Saved model to\", output_dir)"
   ]
  },
  {
   "cell_type": "code",
   "execution_count": 24,
   "metadata": {},
   "outputs": [
    {
     "name": "stdout",
     "output_type": "stream",
     "text": [
      "Entities [('amantadine', 'Medicine'), ('rimantadine', 'Medicine'), ('influenza', 'MedicalCondition'), ('M2 inhibitors', 'Medicine')]\n",
      "Entities [('bedaquiline', 'Medicine'), ('TB therapy', 'Medicine'), ('bedaquiline', 'Medicine')]\n",
      "Entities [('severe acute respiratory syndrome', 'MedicalCondition'), ('SARS', 'MedicalCondition'), ('coronavirus', 'Pathogen'), ('SARS', 'MedicalCondition'), ('SARS coronavirus', 'Pathogen'), ('SARS-CoV', 'Pathogen')]\n",
      "Entities [('bacteria', 'Pathogen'), ('pathogenic bacteria', 'Pathogen'), ('Streptococcus', 'Pathogen'), ('Pseudomonas', 'Pathogen'), ('foodborne illnesses', 'MedicalCondition'), ('Shigella', 'Pathogen'), ('Campylobacter', 'Pathogen'), ('Salmonella', 'Pathogen'), ('tetanus', 'MedicalCondition'), ('typhoid fever', 'MedicalCondition'), ('diphtheria', 'MedicalCondition'), ('syphilis', 'MedicalCondition'), (\"Hansen's disease\", 'MedicalCondition')]\n",
      "Entities [('herpes simplex virus', 'Pathogen'), ('Yersinia pestis.[155', 'Pathogen')]\n",
      "Entities [('bismuth compounds', 'Medicine'), ('Pepto-Bismol', 'Medicine'), ('diarrhea', 'MedicalCondition'), ('loperamide', 'Medicine'), ('Diosmectite', 'Medicine'), ('aluminomagnesium silicate', 'Medicine'), ('diarrhea', 'MedicalCondition'), ('diarrhea', 'MedicalCondition'), ('diarrhea', 'MedicalCondition'), ('chemotherapy', 'Medicine'), ('kaopectate', 'Medicine'), ('Racecadotril', 'Medicine'), ('diarrhea', 'MedicalCondition'), ('loperamide', 'Medicine'), ('constipation', 'MedicalCondition'), ('flatulence.[94]', 'MedicalCondition')]\n",
      "Entities [('Antiretroviral therapy', 'Medicine'), ('ART', 'Medicine'), ('HIV', 'Pathogen'), ('ART', 'Medicine'), ('HIV', 'Pathogen'), ('HIV', 'Pathogen'), ('ART', 'Medicine')]\n",
      "Entities [('Carbamazepine', 'Medicine'), ('bipolar disorder', 'MedicalCondition'), ('epileptic seizures', 'MedicalCondition'), ('hyperactivity disorder', 'MedicalCondition'), ('schizophrenia', 'MedicalCondition'), ('phantom limb syndrome', 'MedicalCondition'), ('neuromyotonia', 'MedicalCondition'), ('post-traumatic stress', 'MedicalCondition')]\n",
      "Entities [('social anxiety disorder', 'MedicalCondition'), ('Sertraline', 'Medicine'), ('fluvoxamine', 'Medicine'), ('escitalopram', 'Medicine'), (\"n't enough evidence to\", 'MedicalCondition'), ('social phobia', 'MedicalCondition'), ('fluoxetine', 'Medicine'), ('social anxiety', 'MedicalCondition'), ('venlafaxine', 'Medicine'), ('social phobia', 'MedicalCondition'), ('social anxiety', 'MedicalCondition'), ('MAOIs', 'Medicine'), ('Phenelzine', 'Medicine'), ('Moclobemide', 'Medicine'), ('social anxiety disorder', 'MedicalCondition'), ('clomipramine', 'Medicine'), ('imipramine', 'Medicine'), ('anxiety disorder', 'MedicalCondition'), ('paroxetine', 'MedicalCondition'), ('sertraline', 'Medicine'), ('fluvoxamine', 'Medicine')]\n",
      "Entities [('adamantane', 'Medicine'), ('amantadine', 'Medicine')]\n",
      "Entities [('HIV', 'Pathogen')]\n",
      "Entities [('influenza', 'MedicalCondition'), ('oseltamivir', 'Medicine'), ('zanamivir', 'Medicine'), ('laninamivir', 'Medicine'), ('peramivir', 'Medicine')]\n",
      "Entities [('isoniazid', 'Medicine'), ('rifampin', 'Medicine'), ('isoniazid', 'Medicine'), ('rifampicin', 'Medicine')]\n",
      "Entities []\n",
      "Entities [('Hantaviruses', 'Pathogen')]\n",
      "Entities [('anthrax vaccine', 'Medicine'), ('pneumococcal vaccine', 'Medicine'), ('amoxicillin', 'Medicine'), ('ciprofloxacin', 'Medicine'), ('doxycycline', 'Medicine')]\n",
      "Entities [('Diarrhea', 'MedicalCondition'), ('diarrhoea', 'MedicalCondition'), ('watery bowel movements', 'MedicalCondition'), ('dehydration', 'MedicalCondition'), ('dehydration', 'MedicalCondition'), ('loss of skin color', 'MedicalCondition'), ('fast heart rate', 'MedicalCondition'), ('decrease in responsiveness', 'MedicalCondition')]\n",
      "Entities [('chest pain', 'MedicalCondition'), ('prolonged cough', 'MedicalCondition'), ('cough up blood', 'MedicalCondition'), ('extensive scarring', 'MedicalCondition')]\n",
      "Entities [('rabies', 'MedicalCondition'), ('rabies', 'MedicalCondition')]\n",
      "Entities [('Gabapentin', 'Medicine'), ('seizures', 'MedicalCondition'), ('postherpetic neuralgia', 'MedicalCondition'), ('migraine prophylaxis', 'MedicalCondition'), ('neuropathic pain syndromes', 'MedicalCondition')]\n",
      "Entities [('Bacterial vaginosis', 'Pathogen'), ('Lactobacilli', 'Pathogen'), ('vaginal infections', 'MedicalCondition'), ('yeast infection', 'MedicalCondition'), ('candidiasis', 'MedicalCondition'), ('Trichomonas vaginalis', 'Pathogen'), ('Bacterial meningitis', 'Pathogen'), ('bacterial inflammation', 'Pathogen'), ('Bacterial pneumonia', 'Pathogen'), ('pain during urination', 'MedicalCondition'), ('Escherichia coli', 'Pathogen'), ('cystitis', 'MedicalCondition'), ('nephritis', 'MedicalCondition'), ('Bacterial gastroenteritis', 'Pathogen'), ('Escherichia', 'Pathogen'), ('skin infection', 'MedicalCondition'), ('Staphylococcus aureus', 'Pathogen'), ('Erysipelas', 'Pathogen'), ('Cellulitis', 'MedicalCondition'), ('inflammation', 'MedicalCondition'), ('Cellulitis', 'MedicalCondition'), ('blisters', 'MedicalCondition'), ('cracks in the skin', 'MedicalCondition'), ('animal bites', 'MedicalCondition'), ('surgical wounds', 'MedicalCondition'), ('intravenous drug injection', 'Medicine'), ('intravenous catheter insertion', 'Medicine')]\n",
      "Entities [('Bupropion', 'Medicine'), ('Wellbutrin', 'Medicine'), ('Zyban', 'Medicine'), ('Zyban', 'Medicine'), ('Wellbutrin', 'Medicine'), ('Wellbutrin', 'Medicine')]\n",
      "Entities []\n",
      "Entities [('steroids', 'Medicine'), ('hydroxychloroquine', 'Medicine'), ('methotrexate', 'Medicine'), ('Biological DMARDs', 'Medicine')]\n",
      "Entities [('influenza', 'MedicalCondition'), ('chickenpox', 'MedicalCondition'), ('Ebola virus', 'Pathogen'), ('avian influenza', 'MedicalCondition'), ('herpesvirus 6', 'Pathogen'), ('multiple sclerosis', 'MedicalCondition'), ('bornavirus', 'Pathogen'), ('psychiatric illnesses', 'MedicalCondition')]\n",
      "Entities [('Influenza', 'MedicalCondition'), ('sore throat', 'MedicalCondition'), ('joint pain', 'MedicalCondition'), ('headache', 'MedicalCondition'), ('coughing', 'MedicalCondition'), ('diarrhea', 'MedicalCondition'), ('vomiting', 'MedicalCondition'), ('stomach flu', 'MedicalCondition'), ('bacterial pneumonia', 'Pathogen'), ('sinus infections', 'MedicalCondition'), ('asthma', 'MedicalCondition'), ('heart failure.[2][5', 'MedicalCondition')]\n",
      "Entities [('Buprenorphine', 'Medicine')]\n",
      "Entities [('infectious microorganism', 'Pathogen'), ('virus', 'Pathogen'), ('bacterium', 'Pathogen'), ('protozoan', 'Pathogen'), ('fungus', 'Pathogen')]\n",
      "Entities [('DMARDs', 'Medicine'), ('methotrexate', 'Medicine'), ('hydroxychloroquine', 'Medicine'), ('sulfasalazine, leflunomide', 'Medicine'), ('TNF-alpha inhibitors', 'Medicine'), ('certolizumab', 'Medicine'), ('infliximab', 'Medicine'), ('etanercept', 'Medicine'), ('Rituximab', 'Medicine'), ('tocilizumab', 'Medicine'), ('monoclonal antibodies', 'Medicine'), ('tocilizumab', 'Medicine'), ('Hydroxychloroquine', 'Medicine'), ('methotrexate', 'Medicine'), ('sulfasalazine', 'Medicine'), ('leflunomide.[8', 'Medicine'), ('Leflunomide', 'Medicine'), ('Sulfasalazine also appears to', 'Medicine'), ('Sodium aurothiomalate', 'Pathogen'), ('methotrexate', 'Medicine'), ('sulfasalazine and hydroxychloroquine', 'Medicine'), ('vomiting', 'MedicalCondition'), ('abdominal pain', 'Medicine')]\n",
      "Entities [('tuberculosis', 'MedicalCondition'), ('Mycobacterium tuberculosis', 'Pathogen'), ('Streptococcus', 'Pathogen'), ('Pseudomonas', 'Pathogen'), ('foodborne illnesses', 'MedicalCondition'), ('Shigella', 'Pathogen'), ('Campylobacter', 'Pathogen'), ('Salmonella', 'Pathogen'), ('tetanus', 'MedicalCondition'), ('typhoid fever', 'MedicalCondition'), ('diphtheria', 'MedicalCondition'), ('syphilis', 'MedicalCondition'), ('leprosy', 'MedicalCondition')]\n",
      "Entities [('Salmonella', 'Pathogen'), ('Neisseria', 'Pathogen'), ('Brucella', 'Pathogen'), ('Mycobacterium', 'Pathogen'), ('Nocardia', 'Pathogen'), ('Listeria', 'Pathogen'), ('Francisella', 'Pathogen'), ('Legionella', 'Pathogen'), ('Yersinia pestis', 'Pathogen')]\n"
     ]
    }
   ],
   "source": [
    "for text, _ in spacy_data:\n",
    "    doc = nlp(text)\n",
    "    print('Entities', [(ent.text, ent.label_) for ent in doc.ents])"
   ]
  },
  {
   "attachments": {},
   "cell_type": "markdown",
   "metadata": {},
   "source": [
    "#### Load trained model"
   ]
  },
  {
   "cell_type": "code",
   "execution_count": 26,
   "metadata": {},
   "outputs": [],
   "source": [
    "nlp1 = spacy.load(r\"model\") #load the best model\n",
    "     "
   ]
  },
  {
   "cell_type": "code",
   "execution_count": 28,
   "metadata": {},
   "outputs": [
    {
     "name": "stdout",
     "output_type": "stream",
     "text": [
      "Entities [('amoxicillin', 'Medicine')]\n"
     ]
    }
   ],
   "source": [
    "doc = nlp1(\"Mrs. Smith was prescribed 500mg of amoxicillin three times a day for her bacterial infection.\") # input sample text\n",
    "\n",
    "print('Entities', [(ent.text, ent.label_) for ent in doc.ents])"
   ]
  },
  {
   "cell_type": "code",
   "execution_count": 30,
   "metadata": {},
   "outputs": [],
   "source": [
    "text = str(input(\"Enter the text to extract the entities: \"))"
   ]
  },
  {
   "cell_type": "code",
   "execution_count": 31,
   "metadata": {},
   "outputs": [
    {
     "data": {
      "text/plain": [
       "'ghhaf akdhf'"
      ]
     },
     "execution_count": 31,
     "metadata": {},
     "output_type": "execute_result"
    }
   ],
   "source": [
    "text"
   ]
  },
  {
   "cell_type": "code",
   "execution_count": null,
   "metadata": {},
   "outputs": [],
   "source": []
  }
 ],
 "metadata": {
  "kernelspec": {
   "display_name": "med_ner",
   "language": "python",
   "name": "python3"
  },
  "language_info": {
   "codemirror_mode": {
    "name": "ipython",
    "version": 3
   },
   "file_extension": ".py",
   "mimetype": "text/x-python",
   "name": "python",
   "nbconvert_exporter": "python",
   "pygments_lexer": "ipython3",
   "version": "3.11.0"
  },
  "orig_nbformat": 4,
  "vscode": {
   "interpreter": {
    "hash": "524c490229805c6d3b0f5c4d2a1ebfbb13a2d9c2f6ac0669c57be76425a36964"
   }
  }
 },
 "nbformat": 4,
 "nbformat_minor": 2
}
